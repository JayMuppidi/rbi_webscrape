{
 "cells": [
  {
   "cell_type": "code",
   "execution_count": 4,
   "metadata": {},
   "outputs": [],
   "source": [
    "import requests\n",
    "from bs4 import BeautifulSoup, SoupStrainer\n",
    "import os\n",
    "from urllib.parse import urljoin"
   ]
  },
  {
   "cell_type": "code",
   "execution_count": 5,
   "metadata": {},
   "outputs": [],
   "source": [
    "def get_all_links(url, visited, max_depth,base_url,depth = 1):\n",
    "    if depth > max_depth or url in visited: # if we've seen this link already skip\n",
    "        return []\n",
    "\n",
    "    visited.add(url) #add to set\n",
    "\n",
    "    response = requests.get(url)\n",
    "    # look through the content\n",
    "    soup = BeautifulSoup(response.text, 'html.parser')\n",
    "    #look for hyperlinks\n",
    "    links = soup.find_all('a')\n",
    "    # print(f'Found {len(links)} links at depth {depth} from {url}')\n",
    "    all_links = []\n",
    "    for link in links:\n",
    "        href = link.get('href')\n",
    "        if href and not href.startswith('javascript:'):\n",
    "            absolute_link = urljoin(url, href)\n",
    "\n",
    "            # make sure it's on the rbi website only\n",
    "            if absolute_link.startswith(base_url):\n",
    "                all_links.append(absolute_link)\n",
    "\n",
    "                # look on new link for more links\n",
    "                all_links.extend(get_all_links(absolute_link,visited, max_depth=max_depth, base_url=base_url,depth =depth+1))\n",
    "    return all_links\n",
    "\n",
    "def get_pdf_links(url):\n",
    "    \n",
    "    response = requests.get(url)\n",
    "    \n",
    "    # look only for hrefs that end with .pdf\n",
    "    parse_only = SoupStrainer('a', href=lambda x: x and x.lower().endswith('.pdf'))\n",
    "    \n",
    "    # look through only content in parse_only\n",
    "    soup = BeautifulSoup(response.content, 'lxml', parse_only=parse_only)\n",
    "    \n",
    "    pdf_links = [a['href'] for a in soup.find_all('a', href=True)]\n",
    "\n",
    "    return pdf_links\n",
    " \n",
    "\n",
    "def download_pdf(url, counter,folder='pdfs'):\n",
    "    # Create the folder if it doesn't exist\n",
    "    if not os.path.exists(folder):\n",
    "        os.makedirs(folder)\n",
    "    response = requests.get(url)\n",
    "    # Extract filename from the URL\n",
    "    filename = url.split('/')[-1]\n",
    "    filepath = os.path.join(folder, filename)\n",
    "    counter+=1\n",
    "    # Write the PDF content to a file\n",
    "    with open(filepath, 'wb') as f:\n",
    "        f.write(response.content)\n",
    "    print(f'Downloaded: {filename}')\n"
   ]
  },
  {
   "cell_type": "code",
   "execution_count": 6,
   "metadata": {},
   "outputs": [
    {
     "name": "stdout",
     "output_type": "stream",
     "text": [
      "182\n",
      "Number of links found: 182\n"
     ]
    }
   ],
   "source": [
    "documentCounter= 0\n",
    "visited = set()\n",
    "start = 'https://rbi.org.in/home.aspx'\n",
    "base = 'https://rbi.org.in'\n",
    "deepth= 2\n",
    "all_links = get_all_links(url = start,visited=visited,max_depth=deepth,base_url=base)\n",
    "print(len(visited))\n",
    "print(f'Number of links found: {len(visited)}')\n",
    "all_pdf_links = set()\n",
    "#go through the links for pdf links\n",
    "for link in visited:\n",
    "    pdf_links = get_pdf_links(link)\n",
    "    for pdf_link in pdf_links:\n",
    "        if not pdf_link.startswith('http'):# to make sure its an absolute link\n",
    "            pdf_link = urljoin(link, pdf_link)\n",
    "        if pdf_link in all_pdf_links: # if we've already come across it, skip\n",
    "            continue\n",
    "        all_pdf_links.add(pdf_link)\n",
    "        #download_pdf(pdf_link,documentCounter)\n",
    "\n"
   ]
  },
  {
   "cell_type": "code",
   "execution_count": 7,
   "metadata": {},
   "outputs": [
    {
     "name": "stdout",
     "output_type": "stream",
     "text": [
      "Number of pdfs found:581\n",
      "PDF links have been written to: pdf_links_depth_2.txt\n"
     ]
    }
   ],
   "source": [
    "print(f'Number of pdfs found:{len(all_pdf_links)}')\n",
    "\n",
    "# to write all pdf links to a text file\n",
    "output_file_path = f'pdf_links_depth_{deepth}.txt' # file name\n",
    "\n",
    "with open(output_file_path, 'w') as file:\n",
    "    for pdf_link in all_pdf_links:\n",
    "        file.write(pdf_link + '\\n')\n",
    "\n",
    "print(f'PDF links have been written to: {output_file_path}')\n"
   ]
  }
 ],
 "metadata": {
  "kernelspec": {
   "display_name": ".venv",
   "language": "python",
   "name": "python3"
  },
  "language_info": {
   "codemirror_mode": {
    "name": "ipython",
    "version": 3
   },
   "file_extension": ".py",
   "mimetype": "text/x-python",
   "name": "python",
   "nbconvert_exporter": "python",
   "pygments_lexer": "ipython3",
   "version": "3.12.0"
  }
 },
 "nbformat": 4,
 "nbformat_minor": 2
}
